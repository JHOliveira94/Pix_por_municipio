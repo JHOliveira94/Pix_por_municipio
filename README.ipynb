{
 "cells": [
  {
   "cell_type": "markdown",
   "metadata": {},
   "source": [
    "# Pix por município - construção de modelos de Regressão Linear"
   ]
  },
  {
   "cell_type": "markdown",
   "metadata": {},
   "source": [
    "Com este projeto de dados, pretende-se estudar as movimentações pix por município, com foco no estado do Rio Grande do Sul.\n",
    "\n",
    "Os dados foram obtidos diretamente do Banco Central e [podem ser acessados clicando aqui](https://olinda.bcb.gov.br/olinda/servico/Pix_DadosAbertos/versao/v1/aplicacao#!/recursos/TransacoesPixPorMunicipio#eyJmb3JtdWxhcmlvIjp7IiRmb3JtYXQiOiJqc29uIiwiJHRvcCI6MTAwLCJEYXRhQmFzZSI6IjIwMjAxMSJ9LCJwcm9wcmllZGFkZXMiOlswLDEsMiwzLDQsNSw2LDcsOCw5LDEwLDExLDEyLDEzLDE0XSwicGVzcXVpc2FkbyI6dHJ1ZSwiYWN0aXZlVGFiIjoidGFibGUiLCJncmlkU3RhdGUiOnsDMAM6W3sDQgMiBDAEIiwDQQN9LHsDQgMiBDYEIiwDQQN9LHsDQgMiBDcEIiwDQQN9LHsDQgMiBDgEIiwDQQN9LHsDQgMiBDEzBCIsA0EDfSx7A0IDIgQxNAQiLANBA31dLAMxAzp7fSwDMgM6W10sAzMDOnt9LAM0Azp7fSwDNQM6e319LCJwaXZvdE9wdGlvbnMiOnsDYQM6e30sA2IDOltdLANjAzo1MDAsA2QDOltdLANlAzpbXSwDZgM6W10sA2cDOiJrZXlfYV90b196IiwDaAM6ImtleV9hX3RvX3oiLANpAzp7fSwDagM6e30sA2sDOjg1LANsAzpmYWxzZSwDbQM6e30sA24DOnt9LANvAzoiQ29udGFnZW0iLANwAzoiVGFibGUifX0=).\n",
    "\n",
    "Em função do tamanho do conjunto de dados, foi necessário criar uma pasta compactando-o.<br>\n",
    "Em dados_pix.zip, estão todos os arquivos para download: os dados, o notebook da análise e o README."
   ]
  },
  {
   "cell_type": "markdown",
   "metadata": {},
   "source": [
    "## Ferramentas"
   ]
  },
  {
   "cell_type": "markdown",
   "metadata": {},
   "source": [
    "Foram utilizadas, para análise dos dados a seguinte configuração:\n",
    "- Pacote Anaconda 3\n",
    "- Python 3.11.7\n",
    "- VS Code, com as extensões: Jupyter e Python"
   ]
  },
  {
   "cell_type": "markdown",
   "metadata": {},
   "source": [
    "## Portfolio"
   ]
  },
  {
   "cell_type": "markdown",
   "metadata": {},
   "source": [
    "Esse é o segundo projeto que realizo para meu portfolio, aplicando os estudos realizados acerca da área de dados, mais especificamente de Ciência de Dados.<br>\n",
    "Nesse estudo, apliquei pela primeira vez um modelo de machine learning preditivo: Regressão Linear.\n",
    "\n",
    "Alguns pontos que destaco sobre a aprendizagem com esse trabalho:\n",
    "- Conhecer sobre o universo das movimentações pix e o quanto este meio de pagamento cresce no país todo.\n",
    "- Descrever as etapas e as respectivas ações a serem tomadas, além de facilitar para que terceiros compreendam o trabalho feito, também auxilia na sua construção e retomada durante o processo.\n",
    "- A construção dos gráficos utilizando subplots foi menos desafiadora e, dessa vez, consegui construir gráficos aplicando loop for para otimizar e não descrever cada gráfico.\n",
    "- Questionar os dados e elaborar questões para investigá-los são pontos essenciais e uma tarefa árdua.\n",
    "\n",
    "Alguns pontos que necessito aprofundar:\n",
    "- Interpretação das estatísticas de avaliação de um modelo de machine learning.\n",
    "- Conhecer técnicas para lidar com dados divergentes, como ocorreu nas estátisticas apontadas pelo Statsmodels.\n",
    "- Como elaborar um simulador mais amigável para uso de outras áreas.\n",
    "\n",
    "De forma geral,  estou contente com o resultado desse projeto.<br>\n",
    "Com o tempo, espero revisitá-lo para observar o quanto evolui em meus estudos, olhando-o como etapa fundamental de meu aprendizado.\n",
    "\n",
    "Fico feliz em compartilhar meu processo."
   ]
  }
 ],
 "metadata": {
  "language_info": {
   "name": "python"
  }
 },
 "nbformat": 4,
 "nbformat_minor": 2
}
